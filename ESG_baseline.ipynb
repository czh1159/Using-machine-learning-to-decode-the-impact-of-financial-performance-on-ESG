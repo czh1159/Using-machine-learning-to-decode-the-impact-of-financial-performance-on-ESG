{
 "cells": [
  {
   "cell_type": "code",
   "execution_count": 1,
   "id": "63c54d2b-8337-41a0-9cf7-35ea59fe761b",
   "metadata": {},
   "outputs": [],
   "source": [
    "import pandas as pd\n",
    "import matplotlib.pyplot as plt\n",
    "import seaborn as sns"
   ]
  },
  {
   "cell_type": "code",
   "execution_count": 2,
   "id": "9d03f016-1849-4ae4-ab64-c77e64aeacee",
   "metadata": {},
   "outputs": [],
   "source": [
    "#基准变量\n",
    "import pandas as pd\n",
    "from sklearn.ensemble import RandomForestRegressor\n",
    "from sklearn.model_selection import train_test_split\n",
    "from sklearn.metrics import mean_squared_error\n",
    "from sklearn.preprocessing import StandardScaler\n",
    "import matplotlib.pyplot as plt\n",
    "from sklearn.metrics import mean_squared_error, r2_score, mean_absolute_error, explained_variance_score\n",
    "import numpy as np\n",
    "plt.rcParams['font.sans-serif'] = ['SimHei']  \n",
    "plt.rcParams['axes.unicode_minus'] = False \n",
    "def observe_performance_rf(data):\n",
    "    X = data.drop(['ESG', 'code', 'year'], axis=1)\n",
    "    y = data['ESG']\n",
    "    X = X.dropna()\n",
    "    y = y[X.index]\n",
    "    # 标准化特征\n",
    "    scaler = StandardScaler()\n",
    "    X = scaler.fit_transform(X)\n",
    "    X_train, X_test, y_train, y_test = train_test_split(X, y, test_size=0.3, random_state=2)\n",
    "\n",
    "    rf_model = RandomForestRegressor(n_estimators=150,random_state=0)\n",
    "    rf_model.fit(X_train, y_train)\n",
    "\n",
    "    y_pred = rf_model.predict(X_test)\n",
    "\n",
    "    mse = mean_squared_error(y_test, y_pred)\n",
    "    print(f\"样本外均方误差: {mse}\")\n",
    "    y_pred_train = rf_model.predict(X_train)\n",
    "    r2_train = r2_score(y_train, y_pred_train)\n",
    "    print(f\"样本内拟合优度（训练集）: {r2_train}\")\n",
    "\n",
    "    r2_test = r2_score(y_test, y_pred)\n",
    "    print(f\"样本外拟合优度（测试集）: {r2_test}\")\n",
    "    mae = mean_absolute_error(y_test, y_pred)\n",
    "    print(f\"平均绝对误差（MAE）: {mae}\")\n",
    "\n",
    "    medae = np.median(np.abs(y_test - y_pred))\n",
    "    print(f\"绝对中位差（MedAE）: {medae}\")\n",
    "    explained_variance = explained_variance_score(y_test, y_pred)\n",
    "    print(f\"可解释方差: {explained_variance}\")"
   ]
  },
  {
   "cell_type": "code",
   "execution_count": 3,
   "id": "f6f211e5-8818-4eb6-824a-56b563895485",
   "metadata": {},
   "outputs": [],
   "source": [
    "import pandas as pd\n",
    "from sklearn.model_selection import train_test_split\n",
    "from sklearn.metrics import mean_squared_error, r2_score, mean_absolute_error, explained_variance_score\n",
    "from sklearn.tree import DecisionTreeRegressor\n",
    "from sklearn.preprocessing import StandardScaler\n",
    "import numpy as np\n",
    "import matplotlib.pyplot as plt\n",
    "def observe_performance_dt(data):\n",
    "    X = data.drop(['ESG', 'code', 'year'], axis=1)\n",
    "    y = data['ESG']\n",
    "    X = X.dropna()\n",
    "    y = y[X.index]\n",
    "    scaler = StandardScaler()\n",
    "    X = scaler.fit_transform(X)\n",
    "    X_train, X_test, y_train, y_test = train_test_split(X, y, test_size=0.3, random_state=2)\n",
    "\n",
    "    # 创建并训练决策树回归模型，并进行正则化\n",
    "    dt_model = DecisionTreeRegressor(max_depth=10, min_samples_split=10, random_state=0)\n",
    "    dt_model.fit(X_train, y_train)\n",
    "\n",
    "    # 在测试集上进行预测\n",
    "    y_pred = dt_model.predict(X_test)\n",
    "\n",
    "    mse = mean_squared_error(y_test, y_pred)\n",
    "    print(f\"样本外均方误差: {mse}\")\n",
    "    # 计算样本内拟合优度（训练集）\n",
    "    y_pred_train = dt_model.predict(X_train)\n",
    "    r2_train = r2_score(y_train, y_pred_train)\n",
    "    print(f\"样本内拟合优度（训练集）: {r2_train}\")\n",
    "\n",
    "    # 计算样本外拟合优度（测试集）\n",
    "    r2_test = r2_score(y_test, y_pred)\n",
    "    print(f\"样本外拟合优度（测试集）: {r2_test}\")\n",
    "    mae = mean_absolute_error(y_test, y_pred)\n",
    "    print(f\"平均绝对误差（MAE）: {mae}\")\n",
    "\n",
    "    # 计算绝对中位差（MedAE）\n",
    "    medae = np.median(np.abs(y_test - y_pred))\n",
    "    print(f\"绝对中位差（MedAE）: {medae}\")\n",
    "    explained_variance = explained_variance_score(y_test, y_pred)\n",
    "    print(f\"可解释方差: {explained_variance}\")"
   ]
  },
  {
   "cell_type": "code",
   "execution_count": 4,
   "id": "9a9e2346-7421-4318-8561-068d37dde278",
   "metadata": {},
   "outputs": [],
   "source": [
    "import pandas as pd\n",
    "from sklearn.model_selection import train_test_split\n",
    "from sklearn.metrics import mean_squared_error, r2_score, mean_absolute_error, explained_variance_score\n",
    "from sklearn.svm import SVR\n",
    "from sklearn.preprocessing import StandardScaler\n",
    "import numpy as np\n",
    "import matplotlib.pyplot as plt\n",
    "\n",
    "def observe_performance_svm(data):\n",
    "    X = data.drop(['ESG', 'code', 'year'], axis=1)\n",
    "    y = data['ESG']\n",
    "    X = X.dropna()\n",
    "    y = y[X.index]\n",
    "    scaler = StandardScaler()\n",
    "    X = scaler.fit_transform(X)\n",
    "    X_train, X_test, y_train, y_test = train_test_split(X, y, test_size=0.3, random_state=2)\n",
    "\n",
    "    svm_model = SVR()\n",
    "    svm_model.fit(X_train, y_train)\n",
    "\n",
    "    y_pred = svm_model.predict(X_test)\n",
    "\n",
    "    mse = mean_squared_error(y_test, y_pred)\n",
    "    print(f\"样本外均方误差: {mse}\")\n",
    "    y_pred_train = svm_model.predict(X_train)\n",
    "    r2_train = r2_score(y_train, y_pred_train)\n",
    "    print(f\"样本内拟合优度（训练集）: {r2_train}\")\n",
    "    r2_test = r2_score(y_test, y_pred)\n",
    "    print(f\"样本外拟合优度（测试集）: {r2_test}\")\n",
    "    mae = mean_absolute_error(y_test, y_pred)\n",
    "    print(f\"平均绝对误差（MAE）: {mae}\")\n",
    "    medae = np.median(np.abs(y_test - y_pred))\n",
    "    print(f\"绝对中位差（MedAE）: {medae}\")\n",
    "    explained_variance = explained_variance_score(y_test, y_pred)\n",
    "    print(f\"可解释方差: {explained_variance}\")\n",
    "    mae = mean_absolute_error(y_test, y_pred)\n",
    "    print(f\"平均绝对误差（MAE）: {mae}\")\n",
    "    medae = np.median(np.abs(y_test - y_pred))\n",
    "    print(f\"绝对中位差（MedAE）: {medae}\")\n",
    "    explained_variance = explained_variance_score(y_test, y_pred)\n",
    "    print(f\"可解释方差: {explained_variance}\")"
   ]
  },
  {
   "cell_type": "code",
   "execution_count": 5,
   "id": "2bccb9fa-e463-48bf-b3ef-e7ad136a1ee7",
   "metadata": {},
   "outputs": [],
   "source": [
    "import pandas as pd\n",
    "from sklearn.model_selection import train_test_split\n",
    "from sklearn.metrics import mean_squared_error, r2_score, mean_absolute_error, explained_variance_score\n",
    "from sklearn.neighbors import KNeighborsRegressor\n",
    "from sklearn.preprocessing import StandardScaler\n",
    "import numpy as np\n",
    "import matplotlib.pyplot as plt\n",
    "\n",
    "def observe_performance_knn(data):\n",
    "    X = data.drop(['ESG', 'code', 'year'], axis=1)\n",
    "    y = data['ESG']\n",
    "    X = X.dropna()\n",
    "    y = y[X.index]\n",
    "    # 标准化特征\n",
    "    scaler = StandardScaler()\n",
    "    X = scaler.fit_transform(X)\n",
    "    X_train, X_test, y_train, y_test = train_test_split(X, y, test_size=0.1, random_state=2)\n",
    "    knn_model = KNeighborsRegressor(n_neighbors=120)  # 可以调整 n_neighbors 的值\n",
    "    knn_model.fit(X_train, y_train)\n",
    "    y_pred = knn_model.predict(X_test)\n",
    "    mse = mean_squared_error(y_test, y_pred)\n",
    "    print(f\"样本外均方误差: {mse}\")\n",
    "    y_pred_train = knn_model.predict(X_train)\n",
    "    r2_train = r2_score(y_train, y_pred_train)\n",
    "    print(f\"样本内拟合优度（训练集）: {r2_train}\")\n",
    "    r2_test = r2_score(y_test, y_pred)\n",
    "    print(f\"样本外拟合优度（测试集）: {r2_test}\")\n",
    "    mae = mean_absolute_error(y_test, y_pred)\n",
    "    print(f\"平均绝对误差（MAE）: {mae}\")\n",
    "    medae = np.median(np.abs(y_test - y_pred))\n",
    "    print(f\"绝对中位差（MedAE）: {medae}\")\n",
    "    explained_variance = explained_variance_score(y_test, y_pred)\n",
    "    print(f\"可解释方差: {explained_variance}\")\n",
    "    mae = mean_absolute_error(y_test, y_pred)\n",
    "    print(f\"平均绝对误差（MAE）: {mae}\")\n",
    "    medae = np.median(np.abs(y_test - y_pred))\n",
    "    print(f\"绝对中位差（MedAE）: {medae}\")\n",
    "    explained_variance = explained_variance_score(y_test, y_pred)\n",
    "    print(f\"可解释方差: {explained_variance}\")"
   ]
  },
  {
   "cell_type": "code",
   "execution_count": 6,
   "id": "e7d83e88-4e56-4d43-8f5f-6d72f92194d8",
   "metadata": {},
   "outputs": [],
   "source": [
    "import pandas as pd\n",
    "from sklearn.model_selection import train_test_split\n",
    "from sklearn.metrics import mean_squared_error, r2_score, mean_absolute_error, explained_variance_score\n",
    "import xgboost as xgb\n",
    "from sklearn.preprocessing import StandardScaler\n",
    "import numpy as np\n",
    "import matplotlib.pyplot as plt\n",
    "\n",
    "def observe_performance_xgb(data):\n",
    "    X = data.drop(['ESG', 'code', 'year'], axis=1)\n",
    "    y = data['ESG']\n",
    "    X = X.dropna()\n",
    "    y = y[X.index]\n",
    "    scaler = StandardScaler()\n",
    "    X = scaler.fit_transform(X)\n",
    "    X_train, X_test, y_train, y_test = train_test_split(X, y, test_size=0.15, random_state=2)\n",
    "    xgb_model = xgb.XGBRegressor(n_estimators=150, random_state=0,reg_alpha=5, reg_lambda=5)\n",
    "    xgb_model.fit(X_train, y_train)\n",
    "    y_pred = gbrt_model.predict(X_test)\n",
    "    mse = mean_squared_error(y_test, y_pred)\n",
    "    print(f\"样本外均方误差: {mse}\")\n",
    "    y_pred_train = gbrt_model.predict(X_train)\n",
    "    r2_train = r2_score(y_train, y_pred_train)\n",
    "    print(f\"样本内拟合优度（训练集）: {r2_train}\")\n",
    "    r2_test = r2_score(y_test, y_pred)\n",
    "    print(f\"样本外拟合优度（测试集）: {r2_test}\")\n",
    "    mae = mean_absolute_error(y_test, y_pred)\n",
    "    print(f\"平均绝对误差（MAE）: {mae}\")\n",
    "    medae = np.median(np.abs(y_test - y_pred))\n",
    "    print(f\"绝对中位差（MedAE）: {medae}\")\n",
    "    explained_variance = explained_variance_score(y_test, y_pred)\n",
    "    print(f\"可解释方差: {explained_variance}\")"
   ]
  },
  {
   "cell_type": "code",
   "execution_count": 7,
   "id": "2b0d77b1-02b1-4e8b-9636-bb4074fa66da",
   "metadata": {},
   "outputs": [],
   "source": [
    "import pandas as pd\n",
    "from sklearn.model_selection import train_test_split\n",
    "from sklearn.linear_model import Lasso\n",
    "from sklearn.metrics import mean_squared_error, r2_score, mean_absolute_error, explained_variance_score\n",
    "from sklearn.preprocessing import StandardScaler\n",
    "import numpy as np\n",
    "import matplotlib.pyplot as plt\n",
    "\n",
    "def observe_performance_lasso(data):\n",
    "    X = data.drop(['ESG', 'code', 'year'], axis=1)\n",
    "    y = data['ESG']\n",
    "    X = X.dropna()\n",
    "    y = y[X.index]\n",
    "    # 标准化特征\n",
    "    scaler = StandardScaler()\n",
    "    X = scaler.fit_transform(X)\n",
    "    X_train, X_test, y_train, y_test = train_test_split(X, y, test_size=0.1, random_state=2)\n",
    "    lasso_model = Lasso(alpha=0.01)  # 可以根据需要调整 alpha 值\n",
    "    lasso_model.fit(X_train, y_train)\n",
    "    y_pred = lasso_model.predict(X_test)\n",
    "    mse = mean_squared_error(y_test, y_pred)\n",
    "    print(f\"样本外均方误差: {mse}\")\n",
    "    y_pred_train = lasso_model.predict(X_train)\n",
    "    r2_train = r2_score(y_train, y_pred_train)\n",
    "    print(f\"样本内拟合优度（训练集）: {r2_train}\")\n",
    "    r2_test = r2_score(y_test, y_pred)\n",
    "    print(f\"样本外拟合优度（测试集）: {r2_test}\")\n",
    "    mae = mean_absolute_error(y_test, y_pred)\n",
    "    print(f\"平均绝对误差（MAE）: {mae}\")\n",
    "    medae = np.median(np.abs(y_test - y_pred))\n",
    "    print(f\"绝对中位差（MedAE）: {medae}\")\n",
    "    explained_variance = explained_variance_score(y_test, y_pred)\n",
    "    print(f\"可解释方差: {explained_variance}\")"
   ]
  },
  {
   "cell_type": "code",
   "execution_count": 12,
   "id": "c50c65d4-7d98-4713-b4e0-685547331c84",
   "metadata": {},
   "outputs": [
    {
     "name": "stdout",
     "output_type": "stream",
     "text": [
      "Index(['code', 'year', '应收账款与收入比', '存货与收入比', '存货周转率A', '营业周期A', '应付账款周转率A',\n",
      "       '营运资金(资本)周转率A', '流动资产周转率A', '固定资产周转率A', '总资产周转率A', '股东权益周转率A', 'ESG'],\n",
      "      dtype='object')\n",
      "Index(['code', 'year', '现金比率', '营运资金', '利息保障倍数A', '经营活动产生的现金流量净额／流动负债',\n",
      "       '资产负债率', '有形资产带息债务比', '权益乘数', '经营活动产生的现金流量净额／负债合计', 'ESG', '流动比率',\n",
      "       '速动比率'],\n",
      "      dtype='object')\n",
      "Index(['code', 'year', '总资产净利润率(ROA)A', '流动资产净利润率A', '固定资产净利润率A',\n",
      "       '净资产收益率（ROE）A', '净利润与利润总额比', '投入资本回报率（ROIC）', '营业净利率', '成本费用利润率',\n",
      "       '资产减值损失／营业收入', '长期资本收益率', 'ESG'],\n",
      "      dtype='object')\n",
      "Index(['code', 'year', '资本保值增值率A', '资本积累率A', '固定资产增长率A', '总资产增长率A', '综合收益增长率',\n",
      "       '营业收入增长率A', '营业总收入增长率', '可持续增长率', '所有者权益增长率A', '每股净资产增长率A', 'ESG'],\n",
      "      dtype='object')\n"
     ]
    }
   ],
   "source": [
    "#data load\n",
    "df1=pd.read_csv('D:/esg/esg2/基本信息/基本信息_esg.csv', encoding='ANSI')\n",
    "print(df1.columns)\n",
    "df2=pd.read_csv('D:/esg/esg2/经营能力/jingyingnengli_esg.csv', encoding='ANSI')\n",
    "print(df2.columns)\n",
    "df3=pd.read_csv('D:/esg/esg2/偿债能力/changzhainengli_esg.csv', encoding='ANSI')\n",
    "print(df3.columns)\n",
    "df4=pd.read_csv('D:/esg/esg2/盈利能力/yinglinengli_esg.csv', encoding='ANSI')\n",
    "print(df4.columns)\n",
    "df5=pd.read_csv('D:/esg/esg2/发展能力/fazhannengli_esg.csv', encoding='ANSI')\n",
    "print(df5.columns)"
   ]
  },
  {
   "cell_type": "markdown",
   "id": "27130178-9165-4450-a1af-dca04afe4878",
   "metadata": {},
   "source": [
    "#Merge data of different dimensions  \n",
    "Here the data corresponds to Table2 Table3\n"
   ]
  },
  {
   "cell_type": "code",
   "execution_count": 13,
   "id": "7ddaa5f3-b383-4f68-8a38-1cbcfbd6bada",
   "metadata": {},
   "outputs": [],
   "source": [
    "df_jiben_jingying = pd.merge(df1, df2[['code', 'year','应收账款与收入比', '存货与收入比', '存货周转率A', '营业周期A', '应付账款周转率A',\n",
    "       '营运资金(资本)周转率A', '流动资产周转率A', '固定资产周转率A', '总资产周转率A', '股东权益周转率A']], on=['code', 'year'], how='left') "
   ]
  },
  {
   "cell_type": "code",
   "execution_count": 14,
   "id": "16a97e6b-055c-4194-800e-d0ad74b01a08",
   "metadata": {},
   "outputs": [],
   "source": [
    "df_jiben_changzhai = pd.merge(df1, df3[['code', 'year', '现金比率', '营运资金', '利息保障倍数A', '经营活动产生的现金流量净额／流动负债',\n",
    "       '资产负债率', '有形资产带息债务比', '权益乘数', '经营活动产生的现金流量净额／负债合计',  '流动比率',\n",
    "       '速动比率']], on=['code', 'year'], how='left') "
   ]
  },
  {
   "cell_type": "code",
   "execution_count": 32,
   "id": "e1f35f09-e4d3-4c35-a774-6346f9e1141f",
   "metadata": {},
   "outputs": [],
   "source": [
    "df_jiben_yingli=pd.merge(df1, df4[['code', 'year','总资产净利润率(ROA)A', '流动资产净利润率A', '固定资产净利润率A',\n",
    "       '净资产收益率（ROE）A', '净利润与利润总额比', '投入资本回报率（ROIC）', '营业净利率', '成本费用利润率',\n",
    "       '资产减值损失／营业收入', '长期资本收益率']], on=['code', 'year'], how='left') "
   ]
  },
  {
   "cell_type": "code",
   "execution_count": 33,
   "id": "103526e2-1e28-4b9d-adad-37b3424516d2",
   "metadata": {},
   "outputs": [],
   "source": [
    "df_jiben_fazhan=pd.merge(df1, df5[['code', 'year','资本保值增值率A', '资本积累率A', '固定资产增长率A', '总资产增长率A', '综合收益增长率',\n",
    "       '营业收入增长率A', '营业总收入增长率', '可持续增长率', '所有者权益增长率A', '每股净资产增长率A' ]], on=['code', 'year'], how='left') "
   ]
  },
  {
   "cell_type": "code",
   "execution_count": 34,
   "id": "038d1e1e-354f-45be-8002-318173edfff3",
   "metadata": {},
   "outputs": [],
   "source": [
    "df_jingying_changzhai=pd.merge(df_jiben_jingying, df3[['code', 'year','现金比率', '营运资金', '利息保障倍数A', '经营活动产生的现金流量净额／流动负债',\n",
    "       '资产负债率', '有形资产带息债务比', '权益乘数', '经营活动产生的现金流量净额／负债合计',  '流动比率',\n",
    "       '速动比率']], on=['code', 'year'], how='left') "
   ]
  },
  {
   "cell_type": "code",
   "execution_count": 35,
   "id": "1c534842-f7a7-400a-a36a-6c640410314c",
   "metadata": {},
   "outputs": [],
   "source": [
    "df_jingying_yingli=pd.merge(df_jiben_jingying, df4[['code', 'year',  '总资产净利润率(ROA)A', '流动资产净利润率A', '固定资产净利润率A',\n",
    "       '净资产收益率（ROE）A', '净利润与利润总额比', '投入资本回报率（ROIC）', '营业净利率', '成本费用利润率',\n",
    "       '资产减值损失／营业收入', '长期资本收益率']], on=['code', 'year'], how='left') "
   ]
  },
  {
   "cell_type": "code",
   "execution_count": 36,
   "id": "a26c4b3e-cd18-4e95-9a33-4243618ba14f",
   "metadata": {},
   "outputs": [],
   "source": [
    "df_jingying_fazhan=pd.merge(df_jiben_jingying, df5[['code', 'year', '资本保值增值率A', '资本积累率A', '固定资产增长率A', '总资产增长率A', '综合收益增长率',\n",
    "       '营业收入增长率A', '营业总收入增长率', '可持续增长率', '所有者权益增长率A', '每股净资产增长率A']], on=['code', 'year'], how='left') "
   ]
  },
  {
   "cell_type": "code",
   "execution_count": 37,
   "id": "b7230863-117a-4f54-8c3a-9f91db810789",
   "metadata": {},
   "outputs": [],
   "source": [
    "df_changzhai_yingli=pd.merge(df_jiben_changzhai, df4[['code', 'year',  '总资产净利润率(ROA)A', '流动资产净利润率A', '固定资产净利润率A',\n",
    "       '净资产收益率（ROE）A', '净利润与利润总额比', '投入资本回报率（ROIC）', '营业净利率', '成本费用利润率',\n",
    "       '资产减值损失／营业收入', '长期资本收益率']], on=['code', 'year'], how='left') "
   ]
  },
  {
   "cell_type": "code",
   "execution_count": 38,
   "id": "25636180-2d79-4e10-bf78-60bb2f50d446",
   "metadata": {},
   "outputs": [],
   "source": [
    "df_changzhai_fazhan=pd.merge(df_jiben_changzhai, df5[['code', 'year', '资本保值增值率A', '资本积累率A', '固定资产增长率A', '总资产增长率A', '综合收益增长率',\n",
    "       '营业收入增长率A', '营业总收入增长率', '可持续增长率', '所有者权益增长率A', '每股净资产增长率A']], on=['code', 'year'], how='left') "
   ]
  },
  {
   "cell_type": "code",
   "execution_count": 39,
   "id": "e0ffc011-4d57-4d2a-ba4d-4392dd4bbb8e",
   "metadata": {},
   "outputs": [],
   "source": [
    "df_yingli_fazhan=pd.merge(df_jiben_yingli, df5[['code', 'year',  '资本保值增值率A', '资本积累率A', '固定资产增长率A', '总资产增长率A', '综合收益增长率',\n",
    "       '营业收入增长率A', '营业总收入增长率', '可持续增长率', '所有者权益增长率A', '每股净资产增长率A']], on=['code', 'year'], how='left') "
   ]
  },
  {
   "cell_type": "code",
   "execution_count": 40,
   "id": "556d12a2-72ef-495f-81a1-ecd1217ede1a",
   "metadata": {},
   "outputs": [],
   "source": [
    "df_jingying_changzhai_yingli=pd.merge(df_jingying_changzhai, df4[['code', 'year',  '总资产净利润率(ROA)A', '流动资产净利润率A', '固定资产净利润率A',\n",
    "       '净资产收益率（ROE）A', '净利润与利润总额比', '投入资本回报率（ROIC）', '营业净利率', '成本费用利润率',\n",
    "       '资产减值损失／营业收入', '长期资本收益率']], on=['code', 'year'], how='left') "
   ]
  },
  {
   "cell_type": "code",
   "execution_count": 41,
   "id": "d737f491-52d5-4401-8387-e7836988a09e",
   "metadata": {},
   "outputs": [],
   "source": [
    "df_jingying_changzhai_fazhan=pd.merge(df_jingying_changzhai, df5[['code', 'year','资本保值增值率A', '资本积累率A', '固定资产增长率A', '总资产增长率A', '综合收益增长率',\n",
    "       '营业收入增长率A', '营业总收入增长率', '可持续增长率', '所有者权益增长率A', '每股净资产增长率A']], on=['code', 'year'], how='left') "
   ]
  },
  {
   "cell_type": "code",
   "execution_count": 42,
   "id": "a4af0129-931d-4601-b19c-0be93f6b9767",
   "metadata": {},
   "outputs": [],
   "source": [
    "df_jingying_yingli_fazhan=pd.merge(df_jingying_yingli, df5[['code', 'year','资本保值增值率A', '资本积累率A', '固定资产增长率A', '总资产增长率A', '综合收益增长率',\n",
    "       '营业收入增长率A', '营业总收入增长率', '可持续增长率', '所有者权益增长率A', '每股净资产增长率A']], on=['code', 'year'], how='left') "
   ]
  },
  {
   "cell_type": "code",
   "execution_count": 43,
   "id": "d494402d-bae1-46c6-aefc-9768286c5585",
   "metadata": {},
   "outputs": [],
   "source": [
    "df_changzhai_yingli_fazhan=pd.merge(df_changzhai_yingli, df5[['code', 'year','资本保值增值率A', '资本积累率A', '固定资产增长率A', '总资产增长率A', '综合收益增长率',\n",
    "       '营业收入增长率A', '营业总收入增长率', '可持续增长率', '所有者权益增长率A', '每股净资产增长率A']], on=['code', 'year'], how='left') "
   ]
  },
  {
   "cell_type": "code",
   "execution_count": 44,
   "id": "de7e0b47-77d0-47ab-8bef-c6ec03ad72b7",
   "metadata": {},
   "outputs": [],
   "source": [
    "df_all=pd.merge(df_changzhai_yingli_fazhan, df2[['code', 'year','应收账款与收入比', '存货与收入比', '存货周转率A', '营业周期A', '应付账款周转率A',\n",
    "       '营运资金(资本)周转率A', '流动资产周转率A', '固定资产周转率A', '总资产周转率A', '股东权益周转率A']], on=['code', 'year'], how='left') "
   ]
  },
  {
   "cell_type": "code",
   "execution_count": 107,
   "id": "4b1874ee-91c7-4173-b9c8-2ec962362363",
   "metadata": {},
   "outputs": [
    {
     "name": "stdout",
     "output_type": "stream",
     "text": [
      "样本外均方误差: 0.7060474842489548\n",
      "样本内拟合优度（训练集）: 0.9190547261351536\n",
      "样本外拟合优度（测试集）: 0.3898696151958724\n",
      "平均绝对误差（MAE）: 0.648661897191309\n",
      "绝对中位差（MedAE）: 0.5250000000000004\n",
      "可解释方差: 0.38999428359713806\n"
     ]
    }
   ],
   "source": [
    "observe_performance_rf(df_jiben_fazhan)"
   ]
  },
  {
   "cell_type": "code",
   "execution_count": 108,
   "id": "2fcd9801-4331-4cdc-a11f-500005b20af0",
   "metadata": {},
   "outputs": [
    {
     "name": "stdout",
     "output_type": "stream",
     "text": [
      "样本外均方误差: 0.7971184833213344\n",
      "样本内拟合优度（训练集）: 0.9111608572578165\n",
      "样本外拟合优度（测试集）: 0.3768876508951944\n",
      "平均绝对误差（MAE）: 0.698836573074154\n",
      "绝对中位差（MedAE）: 0.5883333333333329\n",
      "可解释方差: 0.37695029218817655\n"
     ]
    }
   ],
   "source": [
    "observe_performance_rf(df_jiben_changzhai)"
   ]
  },
  {
   "cell_type": "code",
   "execution_count": 109,
   "id": "5591d099-7f1b-41a6-afc8-b32218d049c7",
   "metadata": {},
   "outputs": [
    {
     "name": "stdout",
     "output_type": "stream",
     "text": [
      "样本外均方误差: 0.7680656616052061\n",
      "样本内拟合优度（训练集）: 0.9120219787519224\n",
      "样本外拟合优度（测试集）: 0.34338856835368625\n",
      "平均绝对误差（MAE）: 0.6791395516992046\n",
      "绝对中位差（MedAE）: 0.543333333333333\n",
      "可解释方差: 0.3434231492440867\n"
     ]
    }
   ],
   "source": [
    "observe_performance_rf(df_jiben_yingli)"
   ]
  },
  {
   "cell_type": "code",
   "execution_count": 110,
   "id": "b7b043d4-2829-4c0f-b019-4a04460fa033",
   "metadata": {},
   "outputs": [
    {
     "name": "stdout",
     "output_type": "stream",
     "text": [
      "样本外均方误差: 0.8448633200521225\n",
      "样本内拟合优度（训练集）: 0.9063762678603843\n",
      "样本外拟合优度（测试集）: 0.3242469943465779\n",
      "平均绝对误差（MAE）: 0.7254014433919712\n",
      "绝对中位差（MedAE）: 0.6133333333333333\n",
      "可解释方差: 0.3242608728917681\n"
     ]
    }
   ],
   "source": [
    "observe_performance_rf(df_jiben_jingying)"
   ]
  },
  {
   "cell_type": "code",
   "execution_count": 111,
   "id": "f4399522-c59e-493f-a6ca-e401ef056f24",
   "metadata": {},
   "outputs": [
    {
     "name": "stdout",
     "output_type": "stream",
     "text": [
      "样本外均方误差: 0.7140931048695756\n",
      "样本内拟合优度（训练集）: 0.917803026033158\n",
      "样本外拟合优度（测试集）: 0.40805398895628553\n",
      "平均绝对误差（MAE）: 0.656180886769122\n",
      "绝对中位差（MedAE）: 0.543333333333333\n",
      "可解释方差: 0.4082950158819407\n"
     ]
    }
   ],
   "source": [
    "observe_performance_rf(df_jingying_changzhai)"
   ]
  },
  {
   "cell_type": "code",
   "execution_count": 112,
   "id": "b4910408-7841-4e29-879a-fbae834ab0c2",
   "metadata": {},
   "outputs": [
    {
     "name": "stdout",
     "output_type": "stream",
     "text": [
      "样本外均方误差: 0.7342055348699763\n",
      "样本内拟合优度（训练集）: 0.918079899857975\n",
      "样本外拟合优度（测试集）: 0.37791094063968833\n",
      "平均绝对误差（MAE）: 0.6620797872340426\n",
      "绝对中位差（MedAE）: 0.5333333333333332\n",
      "可解释方差: 0.37805483752034275\n"
     ]
    }
   ],
   "source": [
    "observe_performance_rf(df_jingying_yingli)"
   ]
  },
  {
   "cell_type": "code",
   "execution_count": 113,
   "id": "683691ad-a81d-4da8-a0d6-0b0f511fa2ec",
   "metadata": {},
   "outputs": [
    {
     "name": "stdout",
     "output_type": "stream",
     "text": [
      "样本外均方误差: 0.731474740251803\n",
      "样本内拟合优度（训练集）: 0.9167499735415496\n",
      "样本外拟合优度（测试集）: 0.3854102342103485\n",
      "平均绝对误差（MAE）: 0.6691272460579392\n",
      "绝对中位差（MedAE）: 0.5375000000000001\n",
      "可解释方差: 0.38558571459775604\n"
     ]
    }
   ],
   "source": [
    "observe_performance_rf(df_jingying_fazhan)"
   ]
  },
  {
   "cell_type": "code",
   "execution_count": 114,
   "id": "72c52dd2-a43b-4025-83cc-9c417277a0ff",
   "metadata": {},
   "outputs": [
    {
     "name": "stdout",
     "output_type": "stream",
     "text": [
      "样本外均方误差: 0.773408787659677\n",
      "样本内拟合优度（训练集）: 0.9143600024398477\n",
      "样本外拟合优度（测试集）: 0.37503317660878654\n",
      "平均绝对误差（MAE）: 0.682354302241504\n",
      "绝对中位差（MedAE）: 0.5716666666666663\n",
      "可解释方差: 0.37506140413162603\n"
     ]
    }
   ],
   "source": [
    "observe_performance_rf(df_changzhai_yingli)"
   ]
  },
  {
   "cell_type": "code",
   "execution_count": 116,
   "id": "9b9dd15c-c8ae-45e9-9b58-bbd120054a06",
   "metadata": {},
   "outputs": [
    {
     "name": "stdout",
     "output_type": "stream",
     "text": [
      "样本外均方误差: 0.7822466245677341\n",
      "样本内拟合优度（训练集）: 0.912893297733211\n",
      "样本外拟合优度（测试集）: 0.37433014883250115\n",
      "平均绝对误差（MAE）: 0.6906841076529844\n",
      "绝对中位差（MedAE）: 0.5633333333333335\n",
      "可解释方差: 0.37438143850891015\n"
     ]
    }
   ],
   "source": [
    "observe_performance_rf(df_changzhai_fazhan)"
   ]
  },
  {
   "cell_type": "code",
   "execution_count": 117,
   "id": "79a4034a-bfe9-4924-a3ad-1792e5d052d6",
   "metadata": {},
   "outputs": [
    {
     "name": "stdout",
     "output_type": "stream",
     "text": [
      "样本外均方误差: 0.7880105907491202\n",
      "样本内拟合优度（训练集）: 0.9123993887380363\n",
      "样本外拟合优度（测试集）: 0.3242129477877639\n",
      "平均绝对误差（MAE）: 0.6876289592760181\n",
      "绝对中位差（MedAE）: 0.5658333333333334\n",
      "可解释方差: 0.32573988786485963\n"
     ]
    }
   ],
   "source": [
    "observe_performance_rf(df_yingli_fazhan)"
   ]
  },
  {
   "cell_type": "code",
   "execution_count": 118,
   "id": "34bacd93-f0bf-4e35-a49f-457038450940",
   "metadata": {},
   "outputs": [
    {
     "name": "stdout",
     "output_type": "stream",
     "text": [
      "样本外均方误差: 0.7447930910165486\n",
      "样本内拟合优度（训练集）: 0.9174250045303994\n",
      "样本外拟合优度（测试集）: 0.39344788832127775\n",
      "平均绝对误差（MAE）: 0.6771578014184397\n",
      "绝对中位差（MedAE）: 0.5541666666666667\n",
      "可解释方差: 0.3937555922915774\n"
     ]
    }
   ],
   "source": [
    "observe_performance_rf(df_jingying_changzhai_yingli)"
   ]
  },
  {
   "cell_type": "code",
   "execution_count": 119,
   "id": "c9b78820-91d9-46fa-a11f-c0d45c5098b8",
   "metadata": {},
   "outputs": [
    {
     "name": "stdout",
     "output_type": "stream",
     "text": [
      "样本外均方误差: 0.736443738125881\n",
      "样本内拟合优度（训练集）: 0.9162973567319131\n",
      "样本外拟合优度（测试集）: 0.4266097613512574\n",
      "平均绝对误差（MAE）: 0.6731356867071153\n",
      "绝对中位差（MedAE）: 0.5549999999999997\n",
      "可解释方差: 0.4267177838613938\n"
     ]
    }
   ],
   "source": [
    "observe_performance_rf(df_jingying_yingli_fazhan)"
   ]
  },
  {
   "cell_type": "code",
   "execution_count": 120,
   "id": "93f63535-f2b7-45e1-974f-ba8658c7f715",
   "metadata": {},
   "outputs": [
    {
     "name": "stdout",
     "output_type": "stream",
     "text": [
      "样本外均方误差: 0.7635951659125189\n",
      "样本内拟合优度（训练集）: 0.915430361032959\n",
      "样本外拟合优度（测试集）: 0.34515128056213795\n",
      "平均绝对误差（MAE）: 0.6755610859728507\n",
      "绝对中位差（MedAE）: 0.5575000000000001\n",
      "可解释方差: 0.3465539055505873\n"
     ]
    }
   ],
   "source": [
    "observe_performance_rf(df_changzhai_yingli_fazhan)"
   ]
  },
  {
   "cell_type": "code",
   "execution_count": 121,
   "id": "d2cd56a0-d7bb-4797-bd81-cb4b59d59992",
   "metadata": {},
   "outputs": [
    {
     "name": "stdout",
     "output_type": "stream",
     "text": [
      "样本外均方误差: 0.7399076442366459\n",
      "样本内拟合优度（训练集）: 0.9173097597295437\n",
      "样本外拟合优度（测试集）: 0.3783248542241755\n",
      "平均绝对误差（MAE）: 0.671337550421709\n",
      "绝对中位差（MedAE）: 0.5391666666666666\n",
      "可解释方差: 0.3784752736514594\n"
     ]
    }
   ],
   "source": [
    "observe_performance_rf(df_jingying_changzhai_fazhan)    "
   ]
  },
  {
   "cell_type": "code",
   "execution_count": 122,
   "id": "77e44644-2867-472f-a742-e0155a153970",
   "metadata": {},
   "outputs": [
    {
     "name": "stdout",
     "output_type": "stream",
     "text": [
      "样本外均方误差: 0.7225758120365263\n",
      "样本内拟合优度（训练集）: 0.9164625501830443\n",
      "样本外拟合优度（测试集）: 0.43740723716410623\n",
      "平均绝对误差（MAE）: 0.665251884537599\n",
      "绝对中位差（MedAE）: 0.5516666666666667\n",
      "可解释方差: 0.4374705714916801\n"
     ]
    }
   ],
   "source": [
    "observe_performance_rf(df_all)    "
   ]
  },
  {
   "cell_type": "code",
   "execution_count": 123,
   "id": "cd39901c-3e53-481d-9c8d-3e51be8cab90",
   "metadata": {},
   "outputs": [
    {
     "name": "stdout",
     "output_type": "stream",
     "text": [
      "样本外均方误差: 1.0454951889425383\n",
      "样本内拟合优度（训练集）: 0.1468637497854105\n",
      "样本外拟合优度（测试集）: 0.08032138294290636\n",
      "平均绝对误差（MAE）: 0.7849846231642397\n",
      "绝对中位差（MedAE）: 0.6525117461623018\n",
      "可解释方差: 0.08421951630398683\n",
      "平均绝对误差（MAE）: 0.7849846231642397\n",
      "绝对中位差（MedAE）: 0.6525117461623018\n",
      "可解释方差: 0.08421951630398683\n"
     ]
    }
   ],
   "source": [
    "observe_performance_svm(df_jiben_jingying)"
   ]
  },
  {
   "cell_type": "code",
   "execution_count": 124,
   "id": "5c53be76-ebe7-49a1-b1a2-5eac5485df7c",
   "metadata": {},
   "outputs": [
    {
     "name": "stdout",
     "output_type": "stream",
     "text": [
      "样本外均方误差: 0.9813121637779335\n",
      "样本内拟合优度（训练集）: 0.20130539557022542\n",
      "样本外拟合优度（测试集）: 0.1748575801915282\n",
      "平均绝对误差（MAE）: 0.759819707632922\n",
      "绝对中位差（MedAE）: 0.6250034138345826\n",
      "可解释方差: 0.1761557293185546\n",
      "平均绝对误差（MAE）: 0.759819707632922\n",
      "绝对中位差（MedAE）: 0.6250034138345826\n",
      "可解释方差: 0.1761557293185546\n"
     ]
    }
   ],
   "source": [
    "observe_performance_svm(df_jiben_yingli)"
   ]
  },
  {
   "cell_type": "code",
   "execution_count": 125,
   "id": "ba45366f-67c7-44a1-be74-33ea9b44ef15",
   "metadata": {},
   "outputs": [
    {
     "name": "stdout",
     "output_type": "stream",
     "text": [
      "样本外均方误差: 0.9668213466263935\n",
      "样本内拟合优度（训练集）: 0.2434412831619337\n",
      "样本外拟合优度（测试集）: 0.22862728626238593\n",
      "平均绝对误差（MAE）: 0.7780910357041891\n",
      "绝对中位差（MedAE）: 0.6727452243311447\n",
      "可解释方差: 0.22969817525696212\n",
      "平均绝对误差（MAE）: 0.7780910357041891\n",
      "绝对中位差（MedAE）: 0.6727452243311447\n",
      "可解释方差: 0.22969817525696212\n"
     ]
    }
   ],
   "source": [
    "observe_performance_svm(df_jiben_fazhan)"
   ]
  },
  {
   "cell_type": "code",
   "execution_count": 126,
   "id": "cd5c2f9b-af9c-4347-9985-ddccd3121af7",
   "metadata": {},
   "outputs": [
    {
     "name": "stdout",
     "output_type": "stream",
     "text": [
      "样本外均方误差: 1.0892840268494297\n",
      "样本内拟合优度（训练集）: 0.1721524398276999\n",
      "样本外拟合优度（测试集）: 0.14006941791832495\n",
      "平均绝对误差（MAE）: 0.8110567206140659\n",
      "绝对中位差（MedAE）: 0.702537301387804\n",
      "可解释方差: 0.14259030033774123\n",
      "平均绝对误差（MAE）: 0.8110567206140659\n",
      "绝对中位差（MedAE）: 0.702537301387804\n",
      "可解释方差: 0.14259030033774123\n"
     ]
    }
   ],
   "source": [
    "observe_performance_svm(df_jiben_changzhai)"
   ]
  },
  {
   "cell_type": "code",
   "execution_count": 127,
   "id": "77b482c3-7a6a-42e4-9604-7cb01cdb66ec",
   "metadata": {},
   "outputs": [
    {
     "name": "stdout",
     "output_type": "stream",
     "text": [
      "样本外均方误差: 1.0432064922398545\n",
      "样本内拟合优度（训练集）: 0.20267860782420755\n",
      "样本外拟合优度（测试集）: 0.1534336827052153\n",
      "平均绝对误差（MAE）: 0.7844171041923993\n",
      "绝对中位差（MedAE）: 0.628383030746027\n",
      "可解释方差: 0.15899838792030563\n",
      "平均绝对误差（MAE）: 0.7844171041923993\n",
      "绝对中位差（MedAE）: 0.628383030746027\n",
      "可解释方差: 0.15899838792030563\n"
     ]
    }
   ],
   "source": [
    "observe_performance_svm(df_jingying_changzhai)"
   ]
  },
  {
   "cell_type": "code",
   "execution_count": 128,
   "id": "dcb588ab-7ef9-44a0-8af2-428cb1db0aab",
   "metadata": {},
   "outputs": [
    {
     "name": "stdout",
     "output_type": "stream",
     "text": [
      "样本外均方误差: 1.0133904169817594\n",
      "样本内拟合优度（训练集）: 0.24513841008604298\n",
      "样本外拟合优度（测试集）: 0.14569826721264245\n",
      "平均绝对误差（MAE）: 0.7664353025690505\n",
      "绝对中位差（MedAE）: 0.6072565548290054\n",
      "可解释方差: 0.14974481329391076\n",
      "平均绝对误差（MAE）: 0.7664353025690505\n",
      "绝对中位差（MedAE）: 0.6072565548290054\n",
      "可解释方差: 0.14974481329391076\n"
     ]
    }
   ],
   "source": [
    "observe_performance_svm(df_jingying_yingli)"
   ]
  },
  {
   "cell_type": "code",
   "execution_count": 129,
   "id": "b318ef04-ed2d-455e-85ff-767d6b73b5e3",
   "metadata": {},
   "outputs": [
    {
     "name": "stdout",
     "output_type": "stream",
     "text": [
      "样本外均方误差: 0.9047729493617263\n",
      "样本内拟合优度（训练集）: 0.3089665893723922\n",
      "样本外拟合优度（测试集）: 0.25095451992779205\n",
      "平均绝对误差（MAE）: 0.7364860458757023\n",
      "绝对中位差（MedAE）: 0.5853735086037191\n",
      "可解释方差: 0.251458232550957\n",
      "平均绝对误差（MAE）: 0.7364860458757023\n",
      "绝对中位差（MedAE）: 0.5853735086037191\n",
      "可解释方差: 0.251458232550957\n"
     ]
    }
   ],
   "source": [
    "observe_performance_svm(df_jingying_fazhan)"
   ]
  },
  {
   "cell_type": "code",
   "execution_count": 130,
   "id": "978402fc-8de2-4c2d-ad5c-14dac6b307c7",
   "metadata": {},
   "outputs": [
    {
     "name": "stdout",
     "output_type": "stream",
     "text": [
      "样本外均方误差: 1.0262430241792104\n",
      "样本内拟合优度（训练集）: 0.2592425970410652\n",
      "样本外拟合优度（测试集）: 0.19617271089893162\n",
      "平均绝对误差（MAE）: 0.7791039422750462\n",
      "绝对中位差（MedAE）: 0.6398610240676659\n",
      "可解释方差: 0.20175823206847876\n",
      "平均绝对误差（MAE）: 0.7791039422750462\n",
      "绝对中位差（MedAE）: 0.6398610240676659\n",
      "可解释方差: 0.20175823206847876\n"
     ]
    }
   ],
   "source": [
    "observe_performance_svm(df_changzhai_yingli)"
   ]
  },
  {
   "cell_type": "code",
   "execution_count": 131,
   "id": "34d8807a-cd02-4ae3-8999-351eb4b11b8d",
   "metadata": {},
   "outputs": [
    {
     "name": "stdout",
     "output_type": "stream",
     "text": [
      "样本外均方误差: 0.9334140925379554\n",
      "样本内拟合优度（训练集）: 0.2970393143479694\n",
      "样本外拟合优度（测试集）: 0.2552810670613308\n",
      "平均绝对误差（MAE）: 0.7571511271684712\n",
      "绝对中位差（MedAE）: 0.6350388848979935\n",
      "可解释方差: 0.25819804839352944\n",
      "平均绝对误差（MAE）: 0.7571511271684712\n",
      "绝对中位差（MedAE）: 0.6350388848979935\n",
      "可解释方差: 0.25819804839352944\n"
     ]
    }
   ],
   "source": [
    "observe_performance_svm(df_changzhai_fazhan)"
   ]
  },
  {
   "cell_type": "code",
   "execution_count": 132,
   "id": "3b41a048-b045-42cf-bbeb-599277eddd57",
   "metadata": {},
   "outputs": [
    {
     "name": "stdout",
     "output_type": "stream",
     "text": [
      "样本外均方误差: 0.9347637411636567\n",
      "样本内拟合优度（训练集）: 0.2868947392657496\n",
      "样本外拟合优度（测试集）: 0.21200690835859626\n",
      "平均绝对误差（MAE）: 0.7500568564730994\n",
      "绝对中位差（MedAE）: 0.6209573590889228\n",
      "可解释方差: 0.21200737385674084\n",
      "平均绝对误差（MAE）: 0.7500568564730994\n",
      "绝对中位差（MedAE）: 0.6209573590889228\n",
      "可解释方差: 0.21200737385674084\n"
     ]
    }
   ],
   "source": [
    "observe_performance_svm(df_yingli_fazhan)"
   ]
  },
  {
   "cell_type": "code",
   "execution_count": 133,
   "id": "f3056921-6ed1-42e2-ba39-5d9200b9f426",
   "metadata": {},
   "outputs": [
    {
     "name": "stdout",
     "output_type": "stream",
     "text": [
      "样本外均方误差: 0.9699728442609118\n",
      "样本内拟合优度（训练集）: 0.2927701178619183\n",
      "样本外拟合优度（测试集）: 0.20175148123948827\n",
      "平均绝对误差（MAE）: 0.7661983170683901\n",
      "绝对中位差（MedAE）: 0.6256726598367712\n",
      "可解释方差: 0.203531226045209\n",
      "平均绝对误差（MAE）: 0.7661983170683901\n",
      "绝对中位差（MedAE）: 0.6256726598367712\n",
      "可解释方差: 0.203531226045209\n"
     ]
    }
   ],
   "source": [
    "observe_performance_svm(df_jingying_changzhai_yingli)"
   ]
  },
  {
   "cell_type": "code",
   "execution_count": 134,
   "id": "6ccb63f8-8fb1-47e8-b5f3-3fd5eee04d1f",
   "metadata": {},
   "outputs": [
    {
     "name": "stdout",
     "output_type": "stream",
     "text": [
      "样本外均方误差: 0.9299724780198425\n",
      "样本内拟合优度（训练集）: 0.3321724583106078\n",
      "样本外拟合优度（测试集）: 0.2615406545603033\n",
      "平均绝对误差（MAE）: 0.7601919462570309\n",
      "绝对中位差（MedAE）: 0.6453595601575008\n",
      "可解释方差: 0.26348519503744927\n",
      "平均绝对误差（MAE）: 0.7601919462570309\n",
      "绝对中位差（MedAE）: 0.6453595601575008\n",
      "可解释方差: 0.26348519503744927\n"
     ]
    }
   ],
   "source": [
    "observe_performance_svm(df_jingying_yingli_fazhan)"
   ]
  },
  {
   "cell_type": "code",
   "execution_count": 135,
   "id": "7f60fe08-8587-4c83-8289-680e47022fab",
   "metadata": {},
   "outputs": [
    {
     "name": "stdout",
     "output_type": "stream",
     "text": [
      "样本外均方误差: 0.9167120489879609\n",
      "样本内拟合优度（训练集）: 0.32040929554138986\n",
      "样本外拟合优度（测试集）: 0.22722423879246378\n",
      "平均绝对误差（MAE）: 0.7393964329384755\n",
      "绝对中位差（MedAE）: 0.6102544984048404\n",
      "可解释方差: 0.22723197125805428\n",
      "平均绝对误差（MAE）: 0.7393964329384755\n",
      "绝对中位差（MedAE）: 0.6102544984048404\n",
      "可解释方差: 0.22723197125805428\n"
     ]
    }
   ],
   "source": [
    "observe_performance_svm(df_changzhai_yingli_fazhan)"
   ]
  },
  {
   "cell_type": "code",
   "execution_count": 136,
   "id": "a99d40a3-c0dc-4dc4-bae3-4a2dc1737018",
   "metadata": {},
   "outputs": [
    {
     "name": "stdout",
     "output_type": "stream",
     "text": [
      "样本外均方误差: 0.8938270834428169\n",
      "样本内拟合优度（训练集）: 0.34197234675752963\n",
      "样本外拟合优度（测试集）: 0.26001640821459315\n",
      "平均绝对误差（MAE）: 0.7310619794650755\n",
      "绝对中位差（MedAE）: 0.57352989258036\n",
      "可解释方差: 0.26003030845076247\n",
      "平均绝对误差（MAE）: 0.7310619794650755\n",
      "绝对中位差（MedAE）: 0.57352989258036\n",
      "可解释方差: 0.26003030845076247\n"
     ]
    }
   ],
   "source": [
    "observe_performance_svm(df_jingying_changzhai_fazhan)    "
   ]
  },
  {
   "cell_type": "code",
   "execution_count": 137,
   "id": "600d5726-bc33-4596-9287-84e11c746a49",
   "metadata": {},
   "outputs": [
    {
     "name": "stdout",
     "output_type": "stream",
     "text": [
      "样本外均方误差: 0.9256120855357676\n",
      "样本内拟合优度（训练集）: 0.3582834337289482\n",
      "样本外拟合优度（测试集）: 0.2650030931332237\n",
      "平均绝对误差（MAE）: 0.7527166056975134\n",
      "绝对中位差（MedAE）: 0.632141428462849\n",
      "可解释方差: 0.26816874499104204\n",
      "平均绝对误差（MAE）: 0.7527166056975134\n",
      "绝对中位差（MedAE）: 0.632141428462849\n",
      "可解释方差: 0.26816874499104204\n"
     ]
    }
   ],
   "source": [
    "observe_performance_svm(df_all)    "
   ]
  },
  {
   "cell_type": "code",
   "execution_count": null,
   "id": "0843579c-5b21-45f6-b6bd-31d99da6b528",
   "metadata": {},
   "outputs": [],
   "source": []
  },
  {
   "cell_type": "code",
   "execution_count": 138,
   "id": "c54374f4-a48d-44c9-b603-6af9417b5df9",
   "metadata": {},
   "outputs": [
    {
     "name": "stdout",
     "output_type": "stream",
     "text": [
      "样本外均方误差: 1.0855385713114576\n",
      "样本内拟合优度（训练集）: 0.05823305881929908\n",
      "样本外拟合优度（测试集）: 0.045096885586218716\n",
      "平均绝对误差（MAE）: 0.8041688694909389\n",
      "绝对中位差（MedAE）: 0.6944552194387712\n",
      "可解释方差: 0.045306865736070456\n"
     ]
    }
   ],
   "source": [
    "observe_performance_lasso(df_jiben_jingying)"
   ]
  },
  {
   "cell_type": "code",
   "execution_count": 143,
   "id": "f5a1de07-f414-4033-8c8d-efcccb5b8223",
   "metadata": {},
   "outputs": [
    {
     "name": "stdout",
     "output_type": "stream",
     "text": [
      "样本外均方误差: 1.0815716195604164\n",
      "样本内拟合优度（训练集）: 0.08791403826180355\n",
      "样本外拟合优度（测试集）: 0.09055379490617688\n",
      "平均绝对误差（MAE）: 0.7984146266065302\n",
      "绝对中位差（MedAE）: 0.6813471263294701\n",
      "可解释方差: 0.09076121924566416\n"
     ]
    }
   ],
   "source": [
    "observe_performance_lasso(df_jiben_yingli)"
   ]
  },
  {
   "cell_type": "code",
   "execution_count": 144,
   "id": "efe3bb7b-d7c9-42d6-b911-da57419661df",
   "metadata": {},
   "outputs": [
    {
     "name": "stdout",
     "output_type": "stream",
     "text": [
      "样本外均方误差: 1.1027343833663392\n",
      "样本内拟合优度（训练集）: 0.12172851344644353\n",
      "样本外拟合优度（测试集）: 0.12018987086166366\n",
      "平均绝对误差（MAE）: 0.8334337869072151\n",
      "绝对中位差（MedAE）: 0.692348326121901\n",
      "可解释方差: 0.12109036030469278\n"
     ]
    }
   ],
   "source": [
    "observe_performance_lasso(df_jiben_fazhan)"
   ]
  },
  {
   "cell_type": "code",
   "execution_count": 145,
   "id": "18f54073-e622-4e76-aecc-3ae7e0938ece",
   "metadata": {},
   "outputs": [
    {
     "name": "stdout",
     "output_type": "stream",
     "text": [
      "样本外均方误差: 1.1884320034781077\n",
      "样本内拟合优度（训练集）: 0.06845963471212113\n",
      "样本外拟合优度（测试集）: 0.06179747492369503\n",
      "平均绝对误差（MAE）: 0.860005600186485\n",
      "绝对中位差（MedAE）: 0.7566745421700025\n",
      "可解释方差: 0.06183446231987555\n"
     ]
    }
   ],
   "source": [
    "observe_performance_lasso(df_jiben_changzhai)"
   ]
  },
  {
   "cell_type": "code",
   "execution_count": 146,
   "id": "37dc7f54-be54-4ee8-ab89-9a4a81757c22",
   "metadata": {},
   "outputs": [
    {
     "name": "stdout",
     "output_type": "stream",
     "text": [
      "样本外均方误差: 1.1192424087913024\n",
      "样本内拟合优度（训练集）: 0.0785673816333805\n",
      "样本外拟合优度（测试集）: 0.0917302267394784\n",
      "平均绝对误差（MAE）: 0.8242333818706691\n",
      "绝对中位差（MedAE）: 0.6904463010709425\n",
      "可解释方差: 0.09217243774377804\n"
     ]
    }
   ],
   "source": [
    "observe_performance_lasso(df_jingying_changzhai)"
   ]
  },
  {
   "cell_type": "code",
   "execution_count": 147,
   "id": "f9e4980c-9d16-4f89-b562-acaf48b6c71a",
   "metadata": {},
   "outputs": [
    {
     "name": "stdout",
     "output_type": "stream",
     "text": [
      "样本外均方误差: 1.0695084732703681\n",
      "样本内拟合优度（训练集）: 0.11024454414680185\n",
      "样本外拟合优度（测试集）: 0.0983899920161938\n",
      "平均绝对误差（MAE）: 0.7955679147387157\n",
      "绝对中位差（MedAE）: 0.6652725948444331\n",
      "可解释方差: 0.09845549324174774\n"
     ]
    }
   ],
   "source": [
    "observe_performance_lasso(df_jingying_yingli)"
   ]
  },
  {
   "cell_type": "code",
   "execution_count": 148,
   "id": "1473c84c-ddbd-4c30-adda-954b3a77e02f",
   "metadata": {},
   "outputs": [
    {
     "name": "stdout",
     "output_type": "stream",
     "text": [
      "样本外均方误差: 1.0214785853021209\n",
      "样本内拟合优度（训练集）: 0.1506035868810195\n",
      "样本外拟合优度（测试集）: 0.15433599352094685\n",
      "平均绝对误差（MAE）: 0.7919509475586989\n",
      "绝对中位差（MedAE）: 0.6601160127875896\n",
      "可解释方差: 0.154663426753752\n"
     ]
    }
   ],
   "source": [
    "observe_performance_lasso(df_jingying_fazhan)"
   ]
  },
  {
   "cell_type": "code",
   "execution_count": 149,
   "id": "eb5fa890-1e9f-4c4e-ae81-b1be89ffcd92",
   "metadata": {},
   "outputs": [
    {
     "name": "stdout",
     "output_type": "stream",
     "text": [
      "样本外均方误差: 1.139902372965563\n",
      "样本内拟合优度（训练集）: 0.11232988482580286\n",
      "样本外拟合优度（测试集）: 0.10714654062216067\n",
      "平均绝对误差（MAE）: 0.8343809876971906\n",
      "绝对中位差（MedAE）: 0.6830313361526827\n",
      "可解释方差: 0.10718627562132532\n"
     ]
    }
   ],
   "source": [
    "observe_performance_lasso(df_changzhai_yingli)"
   ]
  },
  {
   "cell_type": "code",
   "execution_count": 150,
   "id": "d3bbb100-d54d-4f3e-b62d-6c8c83a994e8",
   "metadata": {},
   "outputs": [
    {
     "name": "stdout",
     "output_type": "stream",
     "text": [
      "样本外均方误差: 1.0972458569498076\n",
      "样本内拟合优度（训练集）: 0.12967300143869975\n",
      "样本外拟合优度（测试集）: 0.12456885931812844\n",
      "平均绝对误差（MAE）: 0.8312923465411362\n",
      "绝对中位差（MedAE）: 0.6865561532661637\n",
      "可解释方差: 0.12560308091058203\n"
     ]
    }
   ],
   "source": [
    "observe_performance_lasso(df_changzhai_fazhan)"
   ]
  },
  {
   "cell_type": "code",
   "execution_count": 151,
   "id": "738c421a-d978-4959-818a-9aadc9288a7b",
   "metadata": {},
   "outputs": [
    {
     "name": "stdout",
     "output_type": "stream",
     "text": [
      "样本外均方误差: 1.0475820812908463\n",
      "样本内拟合优度（训练集）: 0.14232518528107496\n",
      "样本外拟合优度（测试集）: 0.11690258550584331\n",
      "平均绝对误差（MAE）: 0.8120311076383089\n",
      "绝对中位差（MedAE）: 0.6927728680146821\n",
      "可解释方差: 0.1179232409033747\n"
     ]
    }
   ],
   "source": [
    "observe_performance_lasso(df_yingli_fazhan)"
   ]
  },
  {
   "cell_type": "code",
   "execution_count": 152,
   "id": "6fb61650-abfa-4bf1-a21e-42d3285f9c1b",
   "metadata": {},
   "outputs": [
    {
     "name": "stdout",
     "output_type": "stream",
     "text": [
      "样本外均方误差: 1.077807788325421\n",
      "样本内拟合优度（训练集）: 0.13157818782490704\n",
      "样本外拟合优度（测试集）: 0.11300767270976952\n",
      "平均绝对误差（MAE）: 0.8175923432741614\n",
      "绝对中位差（MedAE）: 0.6967823461395115\n",
      "可解释方差: 0.11328696736774857\n"
     ]
    }
   ],
   "source": [
    "observe_performance_lasso(df_jingying_changzhai_yingli)"
   ]
  },
  {
   "cell_type": "code",
   "execution_count": 153,
   "id": "e598e6f3-cda7-41ba-bc07-d48d22ec00c8",
   "metadata": {},
   "outputs": [
    {
     "name": "stdout",
     "output_type": "stream",
     "text": [
      "样本外均方误差: 1.0298886393253268\n",
      "样本内拟合优度（训练集）: 0.16244845916779693\n",
      "样本外拟合优度（测试集）: 0.1822006473876171\n",
      "平均绝对误差（MAE）: 0.7975649501045531\n",
      "绝对中位差（MedAE）: 0.6608068270526335\n",
      "可解释方差: 0.18325322009527933\n"
     ]
    }
   ],
   "source": [
    "observe_performance_lasso(df_jingying_yingli_fazhan)"
   ]
  },
  {
   "cell_type": "code",
   "execution_count": 154,
   "id": "40314b00-61e0-409a-a199-1659f141cac3",
   "metadata": {},
   "outputs": [
    {
     "name": "stdout",
     "output_type": "stream",
     "text": [
      "样本外均方误差: 1.0362922622837765\n",
      "样本内拟合优度（训练集）: 0.1513644296256894\n",
      "样本外拟合优度（测试集）: 0.12641974903250963\n",
      "平均绝对误差（MAE）: 0.8092551138751486\n",
      "绝对中位差（MedAE）: 0.6923748687455005\n",
      "可解释方差: 0.12738306501822338\n"
     ]
    }
   ],
   "source": [
    "observe_performance_lasso(df_changzhai_yingli_fazhan)"
   ]
  },
  {
   "cell_type": "code",
   "execution_count": 155,
   "id": "f56a34de-affb-40ee-8a53-a27107ce2f05",
   "metadata": {},
   "outputs": [
    {
     "name": "stdout",
     "output_type": "stream",
     "text": [
      "样本外均方误差: 1.0195915328487706\n",
      "样本内拟合优度（训练集）: 0.15503755074065173\n",
      "样本外拟合优度（测试集）: 0.15589825078321173\n",
      "平均绝对误差（MAE）: 0.7919615086805595\n",
      "绝对中位差（MedAE）: 0.6632003123447046\n",
      "可解释方差: 0.15629613662593989\n"
     ]
    }
   ],
   "source": [
    "observe_performance_lasso(df_jingying_changzhai_fazhan)    "
   ]
  },
  {
   "cell_type": "code",
   "execution_count": 156,
   "id": "1ba7052e-40de-47a4-88aa-91005df04df8",
   "metadata": {},
   "outputs": [
    {
     "name": "stdout",
     "output_type": "stream",
     "text": [
      "样本外均方误差: 1.0237485397043564\n",
      "样本内拟合优度（训练集）: 0.16816782092877058\n",
      "样本外拟合优度（测试集）: 0.18707629054287578\n",
      "平均绝对误差（MAE）: 0.7976348868154329\n",
      "绝对中位差（MedAE）: 0.6611398433897753\n",
      "可解释方差: 0.18812631280025527\n"
     ]
    }
   ],
   "source": [
    "observe_performance_lasso(df_all)    "
   ]
  },
  {
   "cell_type": "code",
   "execution_count": 82,
   "id": "884b0dae-0b41-4765-b063-26fe0907ce59",
   "metadata": {},
   "outputs": [
    {
     "name": "stdout",
     "output_type": "stream",
     "text": [
      "样本外均方误差: 0.9189646950503773\n",
      "样本内拟合优度（训练集）: 0.44029602117144184\n",
      "样本外拟合优度（测试集）: 0.191624993776346\n",
      "平均绝对误差（MAE）: 0.7460512917664013\n",
      "绝对中位差（MedAE）: 0.6050328227571118\n",
      "可解释方差: 0.19194687960608514\n"
     ]
    }
   ],
   "source": [
    "observe_performance_dt(df_jiben_jingying)"
   ]
  },
  {
   "cell_type": "code",
   "execution_count": 83,
   "id": "eb7f8e54-603c-40c5-bda7-436fd693c05a",
   "metadata": {},
   "outputs": [
    {
     "name": "stdout",
     "output_type": "stream",
     "text": [
      "样本外均方误差: 1.0165380098988297\n",
      "样本内拟合优度（训练集）: 0.41616622724396934\n",
      "样本外拟合优度（测试集）: 0.19749844759150115\n",
      "平均绝对误差（MAE）: 0.7825623813810311\n",
      "绝对中位差（MedAE）: 0.6590909090909092\n",
      "可解释方差: 0.19763696449629187\n"
     ]
    }
   ],
   "source": [
    "observe_performance_dt(df_jiben_changzhai)"
   ]
  },
  {
   "cell_type": "code",
   "execution_count": 84,
   "id": "fe7b6a3e-8c4b-4a77-b60c-83803b531d8c",
   "metadata": {},
   "outputs": [
    {
     "name": "stdout",
     "output_type": "stream",
     "text": [
      "样本外均方误差: 0.946808894389359\n",
      "样本内拟合优度（训练集）: 0.40912470960462144\n",
      "样本外拟合优度（测试集）: 0.20386986827423725\n",
      "平均绝对误差（MAE）: 0.7611798814552049\n",
      "绝对中位差（MedAE）: 0.5959409594095941\n",
      "可解释方差: 0.20393043538995248\n"
     ]
    }
   ],
   "source": [
    "observe_performance_dt(df_jiben_yingli)"
   ]
  },
  {
   "cell_type": "code",
   "execution_count": 85,
   "id": "42a756e5-040c-4eb5-ab75-40b483947d9d",
   "metadata": {},
   "outputs": [
    {
     "name": "stdout",
     "output_type": "stream",
     "text": [
      "样本外均方误差: 0.9394577690664841\n",
      "样本内拟合优度（训练集）: 0.415706811601501\n",
      "样本外拟合优度（测试集）: 0.25045915535961794\n",
      "平均绝对误差（MAE）: 0.7713053307911832\n",
      "绝对中位差（MedAE）: 0.6763554216867469\n",
      "可解释方差: 0.25052915088623395\n"
     ]
    }
   ],
   "source": [
    "observe_performance_dt(df_jiben_fazhan)"
   ]
  },
  {
   "cell_type": "code",
   "execution_count": 86,
   "id": "8f1e8ebe-1db5-42f1-94cf-137395e5aec2",
   "metadata": {},
   "outputs": [
    {
     "name": "stdout",
     "output_type": "stream",
     "text": [
      "样本外均方误差: 0.9495428643351645\n",
      "样本内拟合优度（训练集）: 0.44748103030169695\n",
      "样本外拟合优度（测试集）: 0.2294420982294465\n",
      "平均绝对误差（MAE）: 0.759904827584352\n",
      "绝对中位差（MedAE）: 0.6193181818181817\n",
      "可解释方差: 0.23028333374306598\n"
     ]
    }
   ],
   "source": [
    "observe_performance_dt(df_jingying_changzhai)"
   ]
  },
  {
   "cell_type": "code",
   "execution_count": 87,
   "id": "633e2a94-8155-4942-b690-13c3b59f3e1b",
   "metadata": {},
   "outputs": [
    {
     "name": "stdout",
     "output_type": "stream",
     "text": [
      "样本外均方误差: 0.9411666483867506\n",
      "样本内拟合优度（训练集）: 0.4692028811395418\n",
      "样本外拟合优度（测试集）: 0.20658387420596347\n",
      "平均绝对误差（MAE）: 0.7398613798962246\n",
      "绝对中位差（MedAE）: 0.591549295774648\n",
      "可解释方差: 0.20664668788993878\n"
     ]
    }
   ],
   "source": [
    "observe_performance_dt(df_jingying_yingli)"
   ]
  },
  {
   "cell_type": "code",
   "execution_count": 88,
   "id": "f0b81922-c9f9-4ad1-8865-e059a9735460",
   "metadata": {},
   "outputs": [
    {
     "name": "stdout",
     "output_type": "stream",
     "text": [
      "样本外均方误差: 0.9393675717280024\n",
      "样本内拟合优度（训练集）: 0.4600806731036884\n",
      "样本外拟合优度（测试集）: 0.22231424555117152\n",
      "平均绝对误差（MAE）: 0.7445478613942119\n",
      "绝对中位差（MedAE）: 0.576580622347949\n",
      "可解释方差: 0.22274350291628753\n"
     ]
    }
   ],
   "source": [
    "observe_performance_dt(df_jingying_fazhan)"
   ]
  },
  {
   "cell_type": "code",
   "execution_count": 89,
   "id": "653e8976-9e56-494b-b076-fa52f994bbc7",
   "metadata": {},
   "outputs": [
    {
     "name": "stdout",
     "output_type": "stream",
     "text": [
      "样本外均方误差: 0.9944852215799266\n",
      "样本内拟合优度（训练集）: 0.4304432122092309\n",
      "样本外拟合优度（测试集）: 0.22104770421896547\n",
      "平均绝对误差（MAE）: 0.7720135267130233\n",
      "绝对中位差（MedAE）: 0.6564171122994651\n",
      "可解释方差: 0.22106090134429668\n"
     ]
    }
   ],
   "source": [
    "observe_performance_dt(df_changzhai_yingli)"
   ]
  },
  {
   "cell_type": "code",
   "execution_count": 90,
   "id": "049485fe-6fd4-4070-97a8-f11e5332a771",
   "metadata": {},
   "outputs": [
    {
     "name": "stdout",
     "output_type": "stream",
     "text": [
      "样本外均方误差: 0.9944852215799266\n",
      "样本内拟合优度（训练集）: 0.4304432122092309\n",
      "样本外拟合优度（测试集）: 0.22104770421896547\n",
      "平均绝对误差（MAE）: 0.7720135267130233\n",
      "绝对中位差（MedAE）: 0.6564171122994651\n",
      "可解释方差: 0.22106090134429668\n"
     ]
    }
   ],
   "source": [
    "observe_performance_dt(df_changzhai_yingli)"
   ]
  },
  {
   "cell_type": "code",
   "execution_count": 91,
   "id": "43a1c2b9-0157-4c0b-a610-6aea3572bd19",
   "metadata": {},
   "outputs": [
    {
     "name": "stdout",
     "output_type": "stream",
     "text": [
      "样本外均方误差: 1.0246993566598575\n",
      "样本内拟合优度（训练集）: 0.4469535730958145\n",
      "样本外拟合优度（测试集）: 0.18244965704367766\n",
      "平均绝对误差（MAE）: 0.7920719260487096\n",
      "绝对中位差（MedAE）: 0.6461538461538465\n",
      "可解释方差: 0.1827199588219932\n"
     ]
    }
   ],
   "source": [
    "observe_performance_dt(df_changzhai_fazhan)"
   ]
  },
  {
   "cell_type": "code",
   "execution_count": 92,
   "id": "f9b01a4f-3fc0-4349-9d52-283fd5ca561b",
   "metadata": {},
   "outputs": [
    {
     "name": "stdout",
     "output_type": "stream",
     "text": [
      "样本外均方误差: 0.9649769324790707\n",
      "样本内拟合优度（训练集）: 0.4475719530443837\n",
      "样本外拟合优度（测试集）: 0.1865375999284803\n",
      "平均绝对误差（MAE）: 0.7639480277555647\n",
      "绝对中位差（MedAE）: 0.6299603174603172\n",
      "可解释方差: 0.1866793311431828\n"
     ]
    }
   ],
   "source": [
    "observe_performance_dt(df_yingli_fazhan)"
   ]
  },
  {
   "cell_type": "code",
   "execution_count": 93,
   "id": "d9bbcb46-8c26-4794-b523-7404cadc9d78",
   "metadata": {},
   "outputs": [
    {
     "name": "stdout",
     "output_type": "stream",
     "text": [
      "样本外均方误差: 0.9903441003717413\n",
      "样本内拟合优度（训练集）: 0.46136071050181515\n",
      "样本外拟合优度（测试集）: 0.18498675930734876\n",
      "平均绝对误差（MAE）: 0.7758936595781623\n",
      "绝对中位差（MedAE）: 0.6428571428571432\n",
      "可解释方差: 0.18502308969862002\n"
     ]
    }
   ],
   "source": [
    "observe_performance_dt(df_jingying_changzhai_yingli)"
   ]
  },
  {
   "cell_type": "code",
   "execution_count": 94,
   "id": "2503030f-f4e5-40ca-bb4a-abf92bb92707",
   "metadata": {},
   "outputs": [
    {
     "name": "stdout",
     "output_type": "stream",
     "text": [
      "样本外均方误差: 1.035446832127678\n",
      "样本内拟合优度（训练集）: 0.5014861415015655\n",
      "样本外拟合优度（测试集）: 0.1777870765393793\n",
      "平均绝对误差（MAE）: 0.7906126805038257\n",
      "绝对中位差（MedAE）: 0.6299999999999999\n",
      "可解释方差: 0.17821228216720109\n"
     ]
    }
   ],
   "source": [
    "observe_performance_dt(df_jingying_yingli_fazhan)"
   ]
  },
  {
   "cell_type": "code",
   "execution_count": 95,
   "id": "0c23c51b-8e3b-4367-bcd3-031fd4b57b6d",
   "metadata": {},
   "outputs": [
    {
     "name": "stdout",
     "output_type": "stream",
     "text": [
      "样本外均方误差: 0.9748116560059922\n",
      "样本内拟合优度（训练集）: 0.46739319140529223\n",
      "样本外拟合优度（测试集）: 0.17824706205655771\n",
      "平均绝对误差（MAE）: 0.7659120402289179\n",
      "绝对中位差（MedAE）: 0.6632751937984498\n",
      "可解释方差: 0.17860402261208574\n"
     ]
    }
   ],
   "source": [
    "observe_performance_dt(df_changzhai_yingli_fazhan)"
   ]
  },
  {
   "cell_type": "code",
   "execution_count": 96,
   "id": "0e9bdfbf-2c3e-4e72-be00-0778dfac102d",
   "metadata": {},
   "outputs": [
    {
     "name": "stdout",
     "output_type": "stream",
     "text": [
      "样本外均方误差: 0.9514008139214933\n",
      "样本内拟合优度（训练集）: 0.45963298798249064\n",
      "样本外拟合优度（测试集）: 0.2123521377295272\n",
      "平均绝对误差（MAE）: 0.7526997993089123\n",
      "绝对中位差（MedAE）: 0.5825892857142856\n",
      "可解释方差: 0.21239136619141397\n"
     ]
    }
   ],
   "source": [
    "observe_performance_dt(df_jingying_changzhai_fazhan)    "
   ]
  },
  {
   "cell_type": "code",
   "execution_count": 97,
   "id": "02fcdb09-2dee-44bd-8808-8eb1784e5308",
   "metadata": {},
   "outputs": [
    {
     "name": "stdout",
     "output_type": "stream",
     "text": [
      "样本外均方误差: 0.999976561201609\n",
      "样本内拟合优度（训练集）: 0.47050954005520573\n",
      "样本外拟合优度（测试集）: 0.20595280581602005\n",
      "平均绝对误差（MAE）: 0.782849485869814\n",
      "绝对中位差（MedAE）: 0.6547965116279069\n",
      "可解释方差: 0.20633583008585987\n"
     ]
    }
   ],
   "source": [
    "observe_performance_dt(df_all)    "
   ]
  },
  {
   "cell_type": "code",
   "execution_count": 61,
   "id": "d8c329ab-f7f5-48ba-b121-22fa706fcd20",
   "metadata": {},
   "outputs": [
    {
     "name": "stdout",
     "output_type": "stream",
     "text": [
      "样本外均方误差: 0.9997197118707896\n",
      "样本内拟合优度（训练集）: 0.36156543938266694\n",
      "样本外拟合优度（测试集）: 0.2206587030817665\n",
      "平均绝对误差（MAE）: 0.783886475932142\n",
      "绝对中位差（MedAE）: 0.6740000000000004\n",
      "可解释方差: 0.2206765298423452\n"
     ]
    }
   ],
   "source": [
    "observe_performance_dt(df1)    "
   ]
  },
  {
   "cell_type": "code",
   "execution_count": 62,
   "id": "d8230bc7-b5e5-4f78-9cec-882d7d331188",
   "metadata": {},
   "outputs": [
    {
     "name": "stdout",
     "output_type": "stream",
     "text": [
      "样本外均方误差: 0.8033994843264777\n",
      "样本内拟合优度（训练集）: 0.3937449715557554\n",
      "样本外拟合优度（测试集）: 0.30574295998665035\n",
      "平均绝对误差（MAE）: 0.7077026191844518\n",
      "绝对中位差（MedAE）: 0.5921835672055407\n",
      "可解释方差: 0.30580982251266375\n"
     ]
    }
   ],
   "source": [
    "observe_performance_xgb(df_jiben_jingying)"
   ]
  },
  {
   "cell_type": "code",
   "execution_count": 63,
   "id": "265e0429-cc81-455b-8b5d-024415847ba1",
   "metadata": {},
   "outputs": [
    {
     "name": "stdout",
     "output_type": "stream",
     "text": [
      "样本外均方误差: 0.8751034508165457\n",
      "样本内拟合优度（训练集）: 0.3562802850535959\n",
      "样本外拟合优度（测试集）: 0.3159263292001684\n",
      "平均绝对误差（MAE）: 0.738122417335954\n",
      "绝对中位差（MedAE）: 0.6379618785700156\n",
      "可解释方差: 0.3159415649235753\n"
     ]
    }
   ],
   "source": [
    "observe_performance_xgb(df_jiben_changzhai)"
   ]
  },
  {
   "cell_type": "code",
   "execution_count": 64,
   "id": "b85701da-dea0-4f10-adfd-55696c7603c7",
   "metadata": {},
   "outputs": [
    {
     "name": "stdout",
     "output_type": "stream",
     "text": [
      "样本外均方误差: 0.8438736591040393\n",
      "样本内拟合优度（训练集）: 0.37045296329810684\n",
      "样本外拟合优度（测试集）: 0.2785810912638763\n",
      "平均绝对误差（MAE）: 0.7222419740468795\n",
      "绝对中位差（MedAE）: 0.5984580704838374\n",
      "可解释方差: 0.2787378460026142\n"
     ]
    }
   ],
   "source": [
    "observe_performance_xgb(df_jiben_yingli)"
   ]
  },
  {
   "cell_type": "code",
   "execution_count": 65,
   "id": "2fedff8c-132f-4aa0-a415-af4a8a3d605d",
   "metadata": {},
   "outputs": [
    {
     "name": "stdout",
     "output_type": "stream",
     "text": [
      "样本外均方误差: 0.884714102108886\n",
      "样本内拟合优度（训练集）: 0.36364401766281074\n",
      "样本外拟合优度（测试集）: 0.2923728614385045\n",
      "平均绝对误差（MAE）: 0.7459222265348053\n",
      "绝对中位差（MedAE）: 0.6483381249186282\n",
      "可解释方差: 0.2927268557731686\n"
     ]
    }
   ],
   "source": [
    "observe_performance_xgb(df_jiben_fazhan)"
   ]
  },
  {
   "cell_type": "code",
   "execution_count": 66,
   "id": "3ebdf926-3004-4fa7-8a3e-0515601460fd",
   "metadata": {},
   "outputs": [
    {
     "name": "stdout",
     "output_type": "stream",
     "text": [
      "样本外均方误差: 0.8038452087587962\n",
      "样本内拟合优度（训练集）: 0.3996800432722738\n",
      "样本外拟合优度（测试集）: 0.33365416697549666\n",
      "平均绝对误差（MAE）: 0.7065991021186738\n",
      "绝对中位差（MedAE）: 0.5863752932989819\n",
      "可解释方差: 0.33419867724296015\n"
     ]
    }
   ],
   "source": [
    "observe_performance_xgb(df_jingying_changzhai)"
   ]
  },
  {
   "cell_type": "code",
   "execution_count": 67,
   "id": "f30960b5-007c-47d8-b1aa-0f5379359479",
   "metadata": {},
   "outputs": [
    {
     "name": "stdout",
     "output_type": "stream",
     "text": [
      "样本外均方误差: 0.8184126556733524\n",
      "样本内拟合优度（训练集）: 0.41221108623717084\n",
      "样本外拟合优度（测试集）: 0.30656262455638705\n",
      "平均绝对误差（MAE）: 0.7070519344280846\n",
      "绝对中位差（MedAE）: 0.5764650070533541\n",
      "可解释方差: 0.3068391410538902\n"
     ]
    }
   ],
   "source": [
    "observe_performance_xgb(df_jingying_yingli)"
   ]
  },
  {
   "cell_type": "code",
   "execution_count": 68,
   "id": "97e925cb-cf3c-411c-8c66-0f1ac7ff831c",
   "metadata": {},
   "outputs": [
    {
     "name": "stdout",
     "output_type": "stream",
     "text": [
      "样本外均方误差: 0.7979583816924151\n",
      "样本内拟合优度（训练集）: 0.42859698068185437\n",
      "样本外拟合优度（测试集）: 0.32955025248662795\n",
      "平均绝对误差（MAE）: 0.7050830036411743\n",
      "绝对中位差（MedAE）: 0.5847926076679322\n",
      "可解释方差: 0.3295935670852306\n"
     ]
    }
   ],
   "source": [
    "observe_performance_xgb(df_jingying_fazhan)"
   ]
  },
  {
   "cell_type": "code",
   "execution_count": 69,
   "id": "33d02138-e3d0-42c0-a9ae-35460bc6ff2d",
   "metadata": {},
   "outputs": [
    {
     "name": "stdout",
     "output_type": "stream",
     "text": [
      "样本外均方误差: 0.8650417672757376\n",
      "样本内拟合优度（训练集）: 0.3773863689702278\n",
      "样本外拟合优度（测试集）: 0.3009875061919661\n",
      "平均绝对误差（MAE）: 0.7359753019997021\n",
      "绝对中位差（MedAE）: 0.632051658654635\n",
      "可解释方差: 0.3011116697559131\n"
     ]
    }
   ],
   "source": [
    "observe_performance_xgb(df_changzhai_yingli)"
   ]
  },
  {
   "cell_type": "code",
   "execution_count": 98,
   "id": "ce8c6260-d751-4a45-b9c0-426fcf229f15",
   "metadata": {},
   "outputs": [
    {
     "name": "stdout",
     "output_type": "stream",
     "text": [
      "样本外均方误差: 0.8650417672757376\n",
      "样本内拟合优度（训练集）: 0.3773863689702278\n",
      "样本外拟合优度（测试集）: 0.3009875061919661\n",
      "平均绝对误差（MAE）: 0.7359753019997021\n",
      "绝对中位差（MedAE）: 0.632051658654635\n",
      "可解释方差: 0.3011116697559131\n"
     ]
    }
   ],
   "source": [
    "observe_performance_xgb(df_changzhai_yingli)"
   ]
  },
  {
   "cell_type": "code",
   "execution_count": 99,
   "id": "b60ebd91-236b-441d-9c20-aec33f24a7f7",
   "metadata": {},
   "outputs": [
    {
     "name": "stdout",
     "output_type": "stream",
     "text": [
      "样本外均方误差: 0.8481441835100315\n",
      "样本内拟合优度（训练集）: 0.3894385901258157\n",
      "样本外拟合优度（测试集）: 0.32162283811893655\n",
      "平均绝对误差（MAE）: 0.7266480611519193\n",
      "绝对中位差（MedAE）: 0.6240178556885692\n",
      "可解释方差: 0.3219270096347647\n"
     ]
    }
   ],
   "source": [
    "observe_performance_xgb(df_changzhai_fazhan)"
   ]
  },
  {
   "cell_type": "code",
   "execution_count": 100,
   "id": "09981054-ad67-4328-ba58-502876841d29",
   "metadata": {},
   "outputs": [
    {
     "name": "stdout",
     "output_type": "stream",
     "text": [
      "样本外均方误差: 0.8370786165919623\n",
      "样本内拟合优度（训练集）: 0.39197455274094084\n",
      "样本外拟合优度（测试集）: 0.282132883215681\n",
      "平均绝对误差（MAE）: 0.7179955366573677\n",
      "绝对中位差（MedAE）: 0.5986699297579303\n",
      "可解释方差: 0.2835248347243535\n"
     ]
    }
   ],
   "source": [
    "observe_performance_xgb(df_yingli_fazhan)"
   ]
  },
  {
   "cell_type": "code",
   "execution_count": 101,
   "id": "c2bf0e2e-ec31-4a55-a52e-86dbf2e6c8db",
   "metadata": {},
   "outputs": [
    {
     "name": "stdout",
     "output_type": "stream",
     "text": [
      "样本外均方误差: 0.8241593642444419\n",
      "样本内拟合优度（训练集）: 0.4154747930770555\n",
      "样本外拟合优度（测试集）: 0.3288127820037038\n",
      "平均绝对误差（MAE）: 0.7189633635988055\n",
      "绝对中位差（MedAE）: 0.6040787758730017\n",
      "可解释方差: 0.3293657068565441\n"
     ]
    }
   ],
   "source": [
    "observe_performance_xgb(df_jingying_changzhai_yingli)"
   ]
  },
  {
   "cell_type": "code",
   "execution_count": 102,
   "id": "f6d8f287-b19f-4aaf-9624-3830da6d20d7",
   "metadata": {},
   "outputs": [
    {
     "name": "stdout",
     "output_type": "stream",
     "text": [
      "样本外均方误差: 0.8099964624453883\n",
      "样本内拟合优度（训练集）: 0.42588452500345275\n",
      "样本外拟合优度（测试集）: 0.3693420951773908\n",
      "平均绝对误差（MAE）: 0.7163185157760339\n",
      "绝对中位差（MedAE）: 0.6097029405415988\n",
      "可解释方差: 0.36955465638925555\n"
     ]
    }
   ],
   "source": [
    "observe_performance_xgb(df_jingying_yingli_fazhan)"
   ]
  },
  {
   "cell_type": "code",
   "execution_count": 103,
   "id": "cd03eb61-e05b-468c-8f4a-5b371c8dc3d0",
   "metadata": {},
   "outputs": [
    {
     "name": "stdout",
     "output_type": "stream",
     "text": [
      "样本外均方误差: 0.8169119409499702\n",
      "样本内拟合优度（训练集）: 0.402231266611661\n",
      "样本外拟合优度（测试集）: 0.2994275470755491\n",
      "平均绝对误差（MAE）: 0.7101220832860894\n",
      "绝对中位差（MedAE）: 0.5919984893751848\n",
      "可解释方差: 0.30071236935295853\n"
     ]
    }
   ],
   "source": [
    "observe_performance_xgb(df_changzhai_yingli_fazhan)"
   ]
  },
  {
   "cell_type": "code",
   "execution_count": 104,
   "id": "a36799ab-e65a-4453-a6bc-5dc6403c849c",
   "metadata": {},
   "outputs": [
    {
     "name": "stdout",
     "output_type": "stream",
     "text": [
      "样本外均方误差: 0.797780628814063\n",
      "样本内拟合优度（训练集）: 0.43132571055802704\n",
      "样本外拟合优度（测试集）: 0.3296996015944825\n",
      "平均绝对误差（MAE）: 0.7026406611735799\n",
      "绝对中位差（MedAE）: 0.5728504605249443\n",
      "可解释方差: 0.3297404204104305\n"
     ]
    }
   ],
   "source": [
    "observe_performance_xgb(df_jingying_changzhai_fazhan)    "
   ]
  },
  {
   "cell_type": "code",
   "execution_count": 105,
   "id": "b04e33a1-1426-4d8f-b2ed-80b34706bc6f",
   "metadata": {},
   "outputs": [
    {
     "name": "stdout",
     "output_type": "stream",
     "text": [
      "样本外均方误差: 0.8020616476667497\n",
      "样本内拟合优度（训练集）: 0.4300922275460839\n",
      "样本外拟合优度（测试集）: 0.37552008964460615\n",
      "平均绝对误差（MAE）: 0.7130898926279859\n",
      "绝对中位差（MedAE）: 0.6093916548912448\n",
      "可解释方差: 0.3759328900473292\n"
     ]
    }
   ],
   "source": [
    "observe_performance_xgb(df_all)    "
   ]
  },
  {
   "cell_type": "code",
   "execution_count": null,
   "id": "a9692eb2-55e0-4b06-a87e-ed4e82bdf2f9",
   "metadata": {},
   "outputs": [],
   "source": []
  },
  {
   "cell_type": "code",
   "execution_count": null,
   "id": "90b4fd7e-1a81-45af-9222-1e372c5d27e3",
   "metadata": {},
   "outputs": [],
   "source": []
  }
 ],
 "metadata": {
  "kernelspec": {
   "display_name": "Python 3 (ipykernel)",
   "language": "python",
   "name": "python3"
  },
  "language_info": {
   "codemirror_mode": {
    "name": "ipython",
    "version": 3
   },
   "file_extension": ".py",
   "mimetype": "text/x-python",
   "name": "python",
   "nbconvert_exporter": "python",
   "pygments_lexer": "ipython3",
   "version": "3.11.7"
  }
 },
 "nbformat": 4,
 "nbformat_minor": 5
}
